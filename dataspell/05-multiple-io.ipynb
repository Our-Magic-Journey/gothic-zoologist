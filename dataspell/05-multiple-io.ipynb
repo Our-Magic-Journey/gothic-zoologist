{
 "cells": [
  {
   "metadata": {
    "ExecuteTime": {
     "end_time": "2024-12-29T17:52:58.434485Z",
     "start_time": "2024-12-29T17:52:58.426639Z"
    }
   },
   "cell_type": "code",
   "source": [
    "from flax import linen as nn\n",
    "from flax.linen import initializers\n",
    "from jax.typing import ArrayLike\n",
    "import jax\n",
    "import matplotlib.pyplot as plt\n",
    "\n",
    "class NN(nn.Module):\n",
    "    @nn.compact\n",
    "    def __call__(self, x: ArrayLike) -> ArrayLike:\n",
    "        x = nn.Dense(features=2)(x)\n",
    "        x = nn.relu(x)\n",
    "        x = nn.Dense(features=3)(x)\n",
    "\n",
    "        return x\n",
    "\n",
    "\n",
    "class NNArgMax(nn.Module):\n",
    "    @nn.compact\n",
    "    def __call__(self, x: ArrayLike) -> ArrayLike:\n",
    "        x = nn.Dense(features=2)(x)\n",
    "        x = nn.relu(x)\n",
    "        x = nn.Dense(features=3)(x)\n",
    "\n",
    "        argmax_idx = jnp.argmax(x, axis=-1)\n",
    "\n",
    "        return jnp.eye(x.shape[-1])[argmax_idx]\n",
    "\n",
    "\n",
    "class NNSoftMax(nn.Module):\n",
    "    @nn.compact\n",
    "    def __call__(self, x: ArrayLike) -> ArrayLike:\n",
    "        x = nn.Dense(features=2)(x)\n",
    "        x = nn.relu(x)\n",
    "        x = nn.Dense(features=3)(x)\n",
    "\n",
    "        return nn.softmax(x)"
   ],
   "id": "6453609f17c4035b",
   "outputs": [],
   "execution_count": 67
  },
  {
   "metadata": {
    "ExecuteTime": {
     "end_time": "2024-12-29T17:52:58.650627Z",
     "start_time": "2024-12-29T17:52:58.443437Z"
    }
   },
   "cell_type": "code",
   "source": [
    "from jax import random\n",
    "from jax import numpy as jnp\n",
    "\n",
    "random_state = random.PRNGKey(44)\n",
    "model = NN()\n",
    "model_argmax = NNArgMax()\n",
    "model_softmax = NNSoftMax()\n",
    "\n",
    "variables = model.init(random_state, jnp.ones((2,)))\n",
    "variables"
   ],
   "id": "30cca1f3c2f42bf8",
   "outputs": [
    {
     "data": {
      "text/plain": [
       "{'params': {'Dense_0': {'kernel': Array([[0.353222  , 0.6076666 ],\n",
       "          [0.35691372, 0.29986838]], dtype=float32),\n",
       "   'bias': Array([0., 0.], dtype=float32)},\n",
       "  'Dense_1': {'kernel': Array([[-0.18841058, -0.87364864,  0.29732683],\n",
       "          [ 0.13652378, -0.17848821,  0.55810565]], dtype=float32),\n",
       "   'bias': Array([0., 0., 0.], dtype=float32)}}}"
      ]
     },
     "execution_count": 68,
     "metadata": {},
     "output_type": "execute_result"
    }
   ],
   "execution_count": 68
  },
  {
   "metadata": {
    "ExecuteTime": {
     "end_time": "2024-12-29T17:52:58.687492Z",
     "start_time": "2024-12-29T17:52:58.662562Z"
    }
   },
   "cell_type": "code",
   "source": [
    "final_res =  {\n",
    "    'Dense_0': {\n",
    "        'kernel': jnp.array([\n",
    "            [-2.5, -1.5 ],\n",
    "            [0.6, 0.4]\n",
    "        ]),\n",
    "        'bias': jnp.array([1.6, 0.7])\n",
    "    },\n",
    "    'Dense_1': {\n",
    "        'kernel': jnp.array([\n",
    "            [-0.1, 2.4,  -2.2],\n",
    "            [ 1.5, -5.2,  3.7]\n",
    "        ]),\n",
    "        'bias': jnp.array([0.0, 0.0, 1.0]),\n",
    "    }\n",
    "}"
   ],
   "id": "370b41eb66daeb48",
   "outputs": [],
   "execution_count": 69
  },
  {
   "metadata": {
    "ExecuteTime": {
     "end_time": "2024-12-29T17:52:59.019477Z",
     "start_time": "2024-12-29T17:52:58.707055Z"
    }
   },
   "cell_type": "code",
   "source": [
    "print(model.apply({ 'params': final_res }, jnp.array([0.5, 0.37])))\n",
    "print(model_argmax.apply({ 'params': final_res }, jnp.array([0.5, 0.37])))\n",
    "print(model_softmax.apply({ 'params': final_res }, jnp.array([0.5, 0.37])))"
   ],
   "id": "ca1480ff15527c46",
   "outputs": [
    {
     "name": "stdout",
     "output_type": "stream",
     "text": [
      "[0.08979999 0.8632002  0.10419989]\n",
      "[0. 1. 0.]\n",
      "[0.2391414  0.5182487  0.24260993]\n"
     ]
    }
   ],
   "execution_count": 70
  },
  {
   "metadata": {
    "ExecuteTime": {
     "end_time": "2024-12-29T17:52:59.032762Z",
     "start_time": "2024-12-29T17:52:59.030828Z"
    }
   },
   "cell_type": "code",
   "source": "",
   "id": "4306322adbd03e5b",
   "outputs": [],
   "execution_count": null
  }
 ],
 "metadata": {
  "kernelspec": {
   "display_name": "Python 3",
   "language": "python",
   "name": "python3"
  },
  "language_info": {
   "codemirror_mode": {
    "name": "ipython",
    "version": 2
   },
   "file_extension": ".py",
   "mimetype": "text/x-python",
   "name": "python",
   "nbconvert_exporter": "python",
   "pygments_lexer": "ipython2",
   "version": "2.7.6"
  }
 },
 "nbformat": 4,
 "nbformat_minor": 5
}
