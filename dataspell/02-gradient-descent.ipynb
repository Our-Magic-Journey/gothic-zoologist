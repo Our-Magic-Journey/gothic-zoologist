{
 "cells": [
  {
   "metadata": {
    "ExecuteTime": {
     "end_time": "2024-12-29T05:39:41.015211Z",
     "start_time": "2024-12-29T05:39:40.890919Z"
    }
   },
   "cell_type": "code",
   "source": [
    "from jax import random\n",
    "from jax import numpy as jnp\n",
    "import jax\n",
    "\n",
    "random_state = random.PRNGKey(0)\n",
    "\n",
    "@jax.jit\n",
    "def loss(intercept: float, slope: float, dataset: jnp.ndarray) -> float:\n",
    "    \"\"\"sum of squared residuals\"\"\"\n",
    "    ssr = 0.0\n",
    "\n",
    "    for i, point in enumerate(dataset):\n",
    "        prediction = intercept + slope * point[0]\n",
    "        residual = point[1] - prediction\n",
    "        ssr += residual**2\n",
    "\n",
    "    return ssr\n",
    "\n",
    "\n",
    "def gradient_descent(dataset: jnp.ndarray) -> (float, float):\n",
    "    learning_rate = 0.01\n",
    "    stop_learning_at = 0.0001\n",
    "    max_steps = 1000\n",
    "    intercept = random.normal(random_state)\n",
    "    slope = random.normal(random_state)\n",
    "\n",
    "    @jax.jit\n",
    "    def step(dataset: jnp.ndarray, intercept: float, slope: float, learning_rate: float) -> ((float, float), (float, float)):\n",
    "        derivative_intercept = jax.grad(lambda i: loss(i, slope, dataset))\n",
    "        derivative_slope = jax.grad(lambda s: loss(intercept, s, dataset))\n",
    "\n",
    "        intercept_slope = derivative_intercept(intercept)\n",
    "        slope_slope = derivative_slope(slope)\n",
    "\n",
    "        intercept_step_size = intercept_slope * learning_rate\n",
    "        slope_step_size = slope_slope * learning_rate\n",
    "\n",
    "        return (intercept - intercept_step_size, intercept_slope), (slope - slope_step_size, slope_slope)\n",
    "\n",
    "\n",
    "    for i in range(max_steps):\n",
    "        ((intercept, intercept_slope), (slope, slope_slope)) = step(dataset, intercept, slope, learning_rate)\n",
    "\n",
    "        if abs(slope_slope) < stop_learning_at and abs(intercept_slope) < stop_learning_at:\n",
    "            break\n",
    "\n",
    "    return intercept, slope\n",
    "\n",
    "gradient_descent(jnp.array([[0.5, 1.4], [2.3, 1.9], [2.9, 3.2]]))"
   ],
   "id": "683ce93bcbdc6d44",
   "outputs": [
    {
     "data": {
      "text/plain": [
       "(Array(0.9486321, dtype=float32), Array(0.64106226, dtype=float32))"
      ]
     },
     "execution_count": 120,
     "metadata": {},
     "output_type": "execute_result"
    }
   ],
   "execution_count": 120
  },
  {
   "metadata": {},
   "cell_type": "code",
   "outputs": [],
   "execution_count": null,
   "source": "",
   "id": "11300e591277f8ae"
  }
 ],
 "metadata": {
  "kernelspec": {
   "display_name": "Python 3",
   "language": "python",
   "name": "python3"
  },
  "language_info": {
   "codemirror_mode": {
    "name": "ipython",
    "version": 2
   },
   "file_extension": ".py",
   "mimetype": "text/x-python",
   "name": "python",
   "nbconvert_exporter": "python",
   "pygments_lexer": "ipython2",
   "version": "2.7.6"
  }
 },
 "nbformat": 4,
 "nbformat_minor": 5
}
