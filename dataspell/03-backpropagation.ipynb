{
 "cells": [
  {
   "cell_type": "code",
   "id": "initial_id",
   "metadata": {
    "collapsed": true,
    "ExecuteTime": {
     "end_time": "2024-12-29T16:23:43.581472Z",
     "start_time": "2024-12-29T16:23:43.577310Z"
    }
   },
   "source": [
    "import flax\n",
    "from jax import numpy as jnp\n",
    "import jax\n",
    "import matplotlib.pyplot as plt\n",
    "from jax import random\n",
    "from jax import numpy as jnp\n",
    "import jax"
   ],
   "outputs": [],
   "execution_count": 387
  },
  {
   "metadata": {
    "ExecuteTime": {
     "end_time": "2024-12-29T16:23:43.691565Z",
     "start_time": "2024-12-29T16:23:43.627477Z"
    }
   },
   "cell_type": "code",
   "source": [
    "@jax.jit\n",
    "def soft_plus(x: float):\n",
    "    return jnp.log1p(jnp.exp(x))"
   ],
   "id": "6fec4758f59e6f45",
   "outputs": [],
   "execution_count": 388
  },
  {
   "metadata": {
    "ExecuteTime": {
     "end_time": "2024-12-29T16:23:43.834058Z",
     "start_time": "2024-12-29T16:23:43.705071Z"
    }
   },
   "cell_type": "code",
   "source": [
    "@jax.jit\n",
    "def drug_nn(dosage: float, weight: jnp.array, biases: jnp.array) -> float:\n",
    "    a1 = dosage * weight[0] + biases[0]\n",
    "    a2 = dosage * weight[1] + biases[1]\n",
    "\n",
    "    b1 = soft_plus(a1) * weight[2]\n",
    "    b2 = soft_plus(a2) * weight[3]\n",
    "\n",
    "    return b1 + b2 + biases[2]\n"
   ],
   "id": "7f1ede2c6d21b9ff",
   "outputs": [],
   "execution_count": 389
  },
  {
   "metadata": {
    "ExecuteTime": {
     "end_time": "2024-12-29T16:23:44.002624Z",
     "start_time": "2024-12-29T16:23:43.847898Z"
    }
   },
   "cell_type": "code",
   "source": [
    "random_state = random.PRNGKey(0)\n",
    "\n",
    "@jax.jit\n",
    "def network_forward(dataset_x: jnp.array, weight: jnp.array, biases: jnp.array) -> jnp.array:\n",
    "    return jax.vmap(lambda x: drug_nn(x, weight, biases))(dataset_x)\n",
    "\n",
    "\n",
    "@jax.jit\n",
    "def loss_forward(y_guess: jnp.array, y_ref: jnp.array):\n",
    "    delta = y_guess - y_ref\n",
    "    return 0.5 * jnp.mean(delta ** 2)"
   ],
   "id": "a8643de5e5f641e0",
   "outputs": [],
   "execution_count": 390
  },
  {
   "metadata": {
    "ExecuteTime": {
     "end_time": "2024-12-29T16:23:44.315829Z",
     "start_time": "2024-12-29T16:23:44.015329Z"
    }
   },
   "cell_type": "code",
   "source": [
    "def test_grad():\n",
    "    dataset = jnp.array([[0.0, 0.0], [0.5, 1.0], [1.0, 0.0]])\n",
    "    dataset_x = dataset[:, 0]\n",
    "    dataset_y = dataset[:, 1]\n",
    "\n",
    "    weight = jnp.array([\n",
    "        0.1, # 3.34,\n",
    "        0.2, # -3.53,\n",
    "        0.3, # -1.22,\n",
    "        0.4, # -2.30\n",
    "    ])\n",
    "\n",
    "    biases = jnp.array([\n",
    "        0.0,  #-1.43\n",
    "        0.0,    #0.57\n",
    "        0.0     #2.61\n",
    "    ])\n",
    "\n",
    "    loss_and_grad = jax.value_and_grad(lambda w, b: loss_forward(\n",
    "        network_forward(dataset_x, w, b),\n",
    "        dataset_y\n",
    "    ), argnums=(0, 1))\n",
    "\n",
    "    print(loss_forward(network_forward(dataset_x, weight, biases), dataset_y))\n",
    "    print(loss_and_grad(weight, biases))\n",
    "\n",
    "test_grad()"
   ],
   "id": "3d2959edeef4348",
   "outputs": [
    {
     "name": "stdout",
     "output_type": "stream",
     "text": [
      "0.12778157\n",
      "(Array(0.12778157, dtype=float32), (Array([0.01601232, 0.02274285, 0.130177  , 0.13568881], dtype=float32), Array([0.02780076, 0.03805577, 0.18035805], dtype=float32)))\n"
     ]
    }
   ],
   "execution_count": 391
  },
  {
   "metadata": {
    "ExecuteTime": {
     "end_time": "2024-12-29T16:23:44.968817Z",
     "start_time": "2024-12-29T16:23:44.329080Z"
    }
   },
   "cell_type": "code",
   "source": [
    "def learn(dataset: jnp.ndarray) -> (jnp.array, jnp.array):\n",
    "    \"\"\"gradient descent\"\"\"\n",
    "    learning_rate = 0.1\n",
    "    max_steps = 5000\n",
    "\n",
    "    weights = random.normal(random_state, (4,))\n",
    "\n",
    "    biases = jnp.array([\n",
    "        0.0,  #-1.43\n",
    "        0.0,    #0.57\n",
    "        0.0     #2.61\n",
    "    ])\n",
    "\n",
    "    dataset_x = dataset[:, 0]\n",
    "    dataset_y = dataset[:, 1]\n",
    "\n",
    "    loss_and_grad_fun = jax.jit(jax.value_and_grad(lambda w, b: loss_forward(\n",
    "        network_forward(dataset_x, w, b),\n",
    "        dataset_y\n",
    "    ), argnums=(0, 1)))\n",
    "\n",
    "    for i in range(max_steps):\n",
    "        (current_loss, (weight_slopes, bias_slopes)) = loss_and_grad_fun(weights, biases)\n",
    "\n",
    "        weights = jax.tree_util.tree_map(lambda w, slope: w - learning_rate * slope, weights, weight_slopes)\n",
    "        biases = jax.tree_util.tree_map(lambda b, slope: b - learning_rate * slope, biases, bias_slopes)\n",
    "\n",
    "        if i % 100 == 0:\n",
    "            print(f\"epoch: {i}, loss: {current_loss}\")\n",
    "\n",
    "    return weights, biases\n",
    "\n",
    "(trained_wages, trained_biases) = learn(jnp.array([[0.0, 0.0], [0.5, 1.0], [1.0, 0.0]]))\n",
    "print(trained_wages, trained_biases)"
   ],
   "id": "683ce93bcbdc6d44",
   "outputs": [
    {
     "name": "stdout",
     "output_type": "stream",
     "text": [
      "epoch: 0, loss: 0.16064804792404175\n",
      "epoch: 100, loss: 0.11191572993993759\n",
      "epoch: 200, loss: 0.10944131016731262\n",
      "epoch: 300, loss: 0.10885947942733765\n",
      "epoch: 400, loss: 0.10831799358129501\n",
      "epoch: 500, loss: 0.1076778993010521\n",
      "epoch: 600, loss: 0.10689814388751984\n",
      "epoch: 700, loss: 0.10593374073505402\n",
      "epoch: 800, loss: 0.10472653806209564\n",
      "epoch: 900, loss: 0.10320065915584564\n",
      "epoch: 1000, loss: 0.10125758498907089\n",
      "epoch: 1100, loss: 0.09877097606658936\n",
      "epoch: 1200, loss: 0.09558266401290894\n",
      "epoch: 1300, loss: 0.09150274842977524\n",
      "epoch: 1400, loss: 0.08631923794746399\n",
      "epoch: 1500, loss: 0.07982581853866577\n",
      "epoch: 1600, loss: 0.07187822461128235\n",
      "epoch: 1700, loss: 0.062485381960868835\n",
      "epoch: 1800, loss: 0.05192059278488159\n",
      "epoch: 1900, loss: 0.0407983660697937\n",
      "epoch: 2000, loss: 0.030023079365491867\n",
      "epoch: 2100, loss: 0.020553112030029297\n",
      "epoch: 2200, loss: 0.01306595653295517\n",
      "epoch: 2300, loss: 0.00774212833493948\n",
      "epoch: 2400, loss: 0.0043112291023135185\n",
      "epoch: 2500, loss: 0.0022803170140832663\n",
      "epoch: 2600, loss: 0.001158350263722241\n",
      "epoch: 2700, loss: 0.0005707771051675081\n",
      "epoch: 2800, loss: 0.00027507339837029576\n",
      "epoch: 2900, loss: 0.00013047867105342448\n",
      "epoch: 3000, loss: 6.12080839346163e-05\n",
      "epoch: 3100, loss: 2.849243173841387e-05\n",
      "epoch: 3200, loss: 1.319243438047124e-05\n",
      "epoch: 3300, loss: 6.0856664276798256e-06\n",
      "epoch: 3400, loss: 2.8005283638776746e-06\n",
      "epoch: 3500, loss: 1.2868508747487795e-06\n",
      "epoch: 3600, loss: 5.907525064685615e-07\n",
      "epoch: 3700, loss: 2.710525848215184e-07\n",
      "epoch: 3800, loss: 1.2436677820915065e-07\n",
      "epoch: 3900, loss: 5.707306627300568e-08\n",
      "epoch: 4000, loss: 2.625089123853286e-08\n",
      "epoch: 4100, loss: 1.20611698406492e-08\n",
      "epoch: 4200, loss: 5.566297200942927e-09\n",
      "epoch: 4300, loss: 2.5724111729630295e-09\n",
      "epoch: 4400, loss: 1.1805715294244123e-09\n",
      "epoch: 4500, loss: 5.448820838971358e-10\n",
      "epoch: 4600, loss: 2.527282272346554e-10\n",
      "epoch: 4700, loss: 9.967730807414199e-11\n",
      "epoch: 4800, loss: 5.714895223718486e-11\n",
      "epoch: 4900, loss: 4.5597896985993813e-11\n",
      "[ 2.9542487 -3.66755   -1.3883648 -2.3422256] [-1.2469225   0.54813313  2.7030451 ]\n"
     ]
    }
   ],
   "execution_count": 392
  },
  {
   "metadata": {},
   "cell_type": "markdown",
   "source": "# Flax implementation",
   "id": "b96700685c2ee1ee"
  },
  {
   "metadata": {
    "ExecuteTime": {
     "end_time": "2024-12-29T16:23:44.983629Z",
     "start_time": "2024-12-29T16:23:44.979654Z"
    }
   },
   "cell_type": "code",
   "source": [
    "from flax import linen as nn\n",
    "from jax.typing import ArrayLike\n",
    "\n",
    "class NN(nn.Module):\n",
    "    @nn.compact\n",
    "    def __call__(self, x: ArrayLike) -> ArrayLike:\n",
    "        x = nn.Dense(features=2)(x)\n",
    "        x = nn.softplus(x)\n",
    "        return nn.Dense(1)(x)"
   ],
   "id": "1836a39710496307",
   "outputs": [],
   "execution_count": 393
  },
  {
   "metadata": {
    "ExecuteTime": {
     "end_time": "2024-12-29T16:23:45.161252Z",
     "start_time": "2024-12-29T16:23:45.036408Z"
    }
   },
   "cell_type": "code",
   "source": [
    "from flax.training.train_state import TrainState\n",
    "import optax\n",
    "\n",
    "learning_rate = 1e-3\n",
    "model = NN()\n",
    "variables = model.init(random_state, jnp.ones((1,)))\n",
    "tx = optax.adam(learning_rate)\n",
    "max_steps = 10000\n",
    "\n",
    "learning_state = TrainState.create(\n",
    "    apply_fn=model.apply,\n",
    "    params=variables['params'],\n",
    "    tx=tx,\n",
    ")\n",
    "\n",
    "@jax.jit\n",
    "def network_forward(dataset_x: jnp.array, params) -> jnp.array:\n",
    "    return jax.vmap(lambda x: learning_state.apply_fn({ 'params': params }, jnp.array([x]))[0])(dataset_x)\n",
    "\n",
    "\n",
    "def loss_fn(params, x, y):\n",
    "    prediction = network_forward(x, params)\n",
    "    loss = optax.squared_error(prediction, y).mean()\n",
    "\n",
    "    return loss\n",
    "\n",
    "\n",
    "print(variables)\n",
    "print(learning_state)"
   ],
   "id": "36573b4d6be6df7",
   "outputs": [
    {
     "name": "stdout",
     "output_type": "stream",
     "text": [
      "{'params': {'Dense_0': {'kernel': Array([[-1.6581    ,  0.94119257]], dtype=float32), 'bias': Array([0., 0.], dtype=float32)}, 'Dense_1': {'kernel': Array([[ 0.9425951],\n",
      "       [-0.0566635]], dtype=float32), 'bias': Array([0.], dtype=float32)}}}\n",
      "TrainState(step=0, apply_fn=<bound method Module.apply of NN()>, params={'Dense_0': {'kernel': Array([[-1.6581    ,  0.94119257]], dtype=float32), 'bias': Array([0., 0.], dtype=float32)}, 'Dense_1': {'kernel': Array([[ 0.9425951],\n",
      "       [-0.0566635]], dtype=float32), 'bias': Array([0.], dtype=float32)}}, tx=GradientTransformationExtraArgs(init=<function chain.<locals>.init_fn at 0x7b885d0299e0>, update=<function chain.<locals>.update_fn at 0x7b885d02bba0>), opt_state=(ScaleByAdamState(count=Array(0, dtype=int32), mu={'Dense_0': {'bias': Array([0., 0.], dtype=float32), 'kernel': Array([[0., 0.]], dtype=float32)}, 'Dense_1': {'bias': Array([0.], dtype=float32), 'kernel': Array([[0.],\n",
      "       [0.]], dtype=float32)}}, nu={'Dense_0': {'bias': Array([0., 0.], dtype=float32), 'kernel': Array([[0., 0.]], dtype=float32)}, 'Dense_1': {'bias': Array([0.], dtype=float32), 'kernel': Array([[0.],\n",
      "       [0.]], dtype=float32)}}), EmptyState()))\n"
     ]
    }
   ],
   "execution_count": 394
  },
  {
   "metadata": {
    "ExecuteTime": {
     "end_time": "2024-12-29T16:23:45.265994Z",
     "start_time": "2024-12-29T16:23:45.167283Z"
    }
   },
   "cell_type": "code",
   "source": "learning_state.params",
   "id": "928d599171b122e2",
   "outputs": [
    {
     "data": {
      "text/plain": [
       "{'Dense_0': {'kernel': Array([[-1.6581    ,  0.94119257]], dtype=float32),\n",
       "  'bias': Array([0., 0.], dtype=float32)},\n",
       " 'Dense_1': {'kernel': Array([[ 0.9425951],\n",
       "         [-0.0566635]], dtype=float32),\n",
       "  'bias': Array([0.], dtype=float32)}}"
      ]
     },
     "execution_count": 395,
     "metadata": {},
     "output_type": "execute_result"
    }
   ],
   "execution_count": 395
  },
  {
   "metadata": {
    "ExecuteTime": {
     "end_time": "2024-12-29T16:23:45.398865Z",
     "start_time": "2024-12-29T16:23:45.277772Z"
    }
   },
   "cell_type": "code",
   "source": "variables['params']",
   "id": "46fb13e9c9e8e416",
   "outputs": [
    {
     "data": {
      "text/plain": [
       "{'Dense_0': {'kernel': Array([[-1.6581    ,  0.94119257]], dtype=float32),\n",
       "  'bias': Array([0., 0.], dtype=float32)},\n",
       " 'Dense_1': {'kernel': Array([[ 0.9425951],\n",
       "         [-0.0566635]], dtype=float32),\n",
       "  'bias': Array([0.], dtype=float32)}}"
      ]
     },
     "execution_count": 396,
     "metadata": {},
     "output_type": "execute_result"
    }
   ],
   "execution_count": 396
  },
  {
   "metadata": {
    "ExecuteTime": {
     "end_time": "2024-12-29T16:24:12.923996Z",
     "start_time": "2024-12-29T16:23:45.411838Z"
    }
   },
   "cell_type": "code",
   "source": [
    "def learn_flax(learning_state, dataset: jnp.ndarray):\n",
    "    dataset_x = dataset[:, 0]\n",
    "    dataset_y = dataset[:, 1]\n",
    "\n",
    "    grad_fn = jax.jit(jax.grad(loss_fn))\n",
    "\n",
    "    for i in range(max_steps):\n",
    "        grads = grad_fn(learning_state.params, dataset_x, dataset_y)\n",
    "        learning_state = learning_state.apply_gradients(grads=grads)\n",
    "        current_loss = loss_fn(learning_state.params, dataset_x, dataset_y)\n",
    "\n",
    "        if i % 100 == 0:\n",
    "            print(f\"epoch: {i}, loss: {current_loss}\")\n",
    "\n",
    "    return learning_state.params\n",
    "\n",
    "params = learn_flax(learning_state, jnp.array([[0.0, 0.0], [0.5, 1.0], [1.0, 0.0]]))\n",
    "params"
   ],
   "id": "27b642543c5448b0",
   "outputs": [
    {
     "name": "stdout",
     "output_type": "stream",
     "text": [
      "epoch: 0, loss: 0.29754024744033813\n",
      "epoch: 100, loss: 0.2709463834762573\n",
      "epoch: 200, loss: 0.254238486289978\n",
      "epoch: 300, loss: 0.24458706378936768\n",
      "epoch: 400, loss: 0.2399846613407135\n",
      "epoch: 500, loss: 0.23720082640647888\n",
      "epoch: 600, loss: 0.23492980003356934\n",
      "epoch: 700, loss: 0.23297858238220215\n",
      "epoch: 800, loss: 0.23130294680595398\n",
      "epoch: 900, loss: 0.22986821830272675\n",
      "epoch: 1000, loss: 0.22864244878292084\n",
      "epoch: 1100, loss: 0.22759684920310974\n",
      "epoch: 1200, loss: 0.2267056554555893\n",
      "epoch: 1300, loss: 0.22594642639160156\n",
      "epoch: 1400, loss: 0.22529952228069305\n",
      "epoch: 1500, loss: 0.22474783658981323\n",
      "epoch: 1600, loss: 0.22427651286125183\n",
      "epoch: 1700, loss: 0.22387278079986572\n",
      "epoch: 1800, loss: 0.22352534532546997\n",
      "epoch: 1900, loss: 0.22322440147399902\n",
      "epoch: 2000, loss: 0.22296123206615448\n",
      "epoch: 2100, loss: 0.22272813320159912\n",
      "epoch: 2200, loss: 0.22251799702644348\n",
      "epoch: 2300, loss: 0.22232425212860107\n",
      "epoch: 2400, loss: 0.22214052081108093\n",
      "epoch: 2500, loss: 0.2219601273536682\n",
      "epoch: 2600, loss: 0.22177588939666748\n",
      "epoch: 2700, loss: 0.22157904505729675\n",
      "epoch: 2800, loss: 0.22135770320892334\n",
      "epoch: 2900, loss: 0.22109448909759521\n",
      "epoch: 3000, loss: 0.22076278924942017\n",
      "epoch: 3100, loss: 0.2203207015991211\n",
      "epoch: 3200, loss: 0.21970117092132568\n",
      "epoch: 3300, loss: 0.21879202127456665\n",
      "epoch: 3400, loss: 0.2173980176448822\n",
      "epoch: 3500, loss: 0.21517620980739594\n",
      "epoch: 3600, loss: 0.21154344081878662\n",
      "epoch: 3700, loss: 0.20557579398155212\n",
      "epoch: 3800, loss: 0.19598113000392914\n",
      "epoch: 3900, loss: 0.18142592906951904\n",
      "epoch: 4000, loss: 0.1614363193511963\n",
      "epoch: 4100, loss: 0.1371213048696518\n",
      "epoch: 4200, loss: 0.11081036180257797\n",
      "epoch: 4300, loss: 0.08506148308515549\n",
      "epoch: 4400, loss: 0.0619145929813385\n",
      "epoch: 4500, loss: 0.04261576384305954\n",
      "epoch: 4600, loss: 0.027636324986815453\n",
      "epoch: 4700, loss: 0.016816645860671997\n",
      "epoch: 4800, loss: 0.009564770385622978\n",
      "epoch: 4900, loss: 0.005070055834949017\n",
      "epoch: 5000, loss: 0.002501017414033413\n",
      "epoch: 5100, loss: 0.0011481649708002806\n",
      "epoch: 5200, loss: 0.0004911671276204288\n",
      "epoch: 5300, loss: 0.00019616141798906028\n",
      "epoch: 5400, loss: 7.3275099566672e-05\n",
      "epoch: 5500, loss: 2.5623896362958476e-05\n",
      "epoch: 5600, loss: 8.391050869249739e-06\n",
      "epoch: 5700, loss: 2.571834556874819e-06\n",
      "epoch: 5800, loss: 7.362654059761553e-07\n",
      "epoch: 5900, loss: 1.962336000360665e-07\n",
      "epoch: 6000, loss: 4.858939561813713e-08\n",
      "epoch: 6100, loss: 1.1160561363965371e-08\n",
      "epoch: 6200, loss: 2.3324939757429775e-09\n",
      "epoch: 6300, loss: 4.633496641925916e-10\n",
      "epoch: 6400, loss: 8.564408904288001e-11\n",
      "epoch: 6500, loss: 2.118364858527677e-11\n",
      "epoch: 6600, loss: 1.890991183084445e-11\n",
      "epoch: 6700, loss: 1.4703498835144657e-11\n",
      "epoch: 6800, loss: 1.0212867877779086e-11\n",
      "epoch: 6900, loss: 9.644433689171006e-12\n",
      "epoch: 7000, loss: 7.313853515877877e-12\n",
      "epoch: 7100, loss: 5.949611463218485e-12\n",
      "epoch: 7200, loss: 3.581135388230905e-12\n",
      "epoch: 7300, loss: 3.675874708786164e-12\n",
      "epoch: 7400, loss: 2.0842587638431054e-12\n",
      "epoch: 7500, loss: 6.631732489548181e-12\n",
      "epoch: 7600, loss: 1.4021377375134092e-12\n",
      "epoch: 7700, loss: 6.252776074688882e-13\n",
      "epoch: 7800, loss: 6.252776074688882e-13\n",
      "epoch: 7900, loss: 6.176985138661717e-12\n",
      "epoch: 8000, loss: 1.8947807190437815e-13\n",
      "epoch: 8100, loss: 1.8568850883998733e-12\n",
      "epoch: 8200, loss: 1.0459189070388675e-11\n",
      "epoch: 8300, loss: 3.979039320256561e-12\n",
      "epoch: 8400, loss: 3.903248384229396e-12\n",
      "epoch: 8500, loss: 1.2789769243681803e-11\n",
      "epoch: 8600, loss: 1.0392277260962146e-07\n",
      "epoch: 8700, loss: 1.3452942752845143e-11\n",
      "epoch: 8800, loss: 6.17269932945419e-08\n",
      "epoch: 8900, loss: 4.438275595930463e-07\n",
      "epoch: 9000, loss: 6.217533154995181e-10\n",
      "epoch: 9100, loss: 1.1368683772161603e-13\n",
      "epoch: 9200, loss: 4.761257912377914e-07\n",
      "epoch: 9300, loss: 2.652693060871403e-13\n",
      "epoch: 9400, loss: 4.084185718511435e-07\n",
      "epoch: 9500, loss: 2.0425735755558172e-11\n",
      "epoch: 9600, loss: 1.1368683772161603e-13\n",
      "epoch: 9700, loss: 7.617018127348274e-12\n",
      "epoch: 9800, loss: 1.5262420660633325e-08\n",
      "epoch: 9900, loss: 4.873565440099981e-10\n"
     ]
    },
    {
     "data": {
      "text/plain": [
       "{'Dense_0': {'bias': Array([1.5101978, 4.132737 ], dtype=float32),\n",
       "  'kernel': Array([[-3.879341 , -2.5272443]], dtype=float32)},\n",
       " 'Dense_1': {'bias': Array([-3.0940955], dtype=float32),\n",
       "  'kernel': Array([[-2.7179105],\n",
       "         [ 1.8658996]], dtype=float32)}}"
      ]
     },
     "execution_count": 397,
     "metadata": {},
     "output_type": "execute_result"
    }
   ],
   "execution_count": 397
  },
  {
   "metadata": {
    "ExecuteTime": {
     "end_time": "2024-12-29T16:25:55.577633Z",
     "start_time": "2024-12-29T16:25:55.417365Z"
    }
   },
   "cell_type": "code",
   "source": [
    "@jax.jit\n",
    "def nn_apply(dataset_x: jnp.array, params) -> jnp.array:\n",
    "    return jax.vmap(lambda x: model.apply({ 'params': params }, jnp.array([x]))[0])(dataset_x)\n",
    "\n",
    "x = jnp.linspace(0, 1, 100)\n",
    "y = nn_apply(x, params)\n",
    "\n",
    "plt.figure(figsize=(10, 6))\n",
    "plt.plot(x, y, label=\"SoftPlus\", color=\"blue\")\n",
    "plt.grid(True, alpha=0.1)\n",
    "plt.show()"
   ],
   "id": "fd100e498aeec617",
   "outputs": [
    {
     "data": {
      "text/plain": [
       "<Figure size 1000x600 with 1 Axes>"
      ],
      "image/png": "[encoded data removed]"
     },
     "metadata": {},
     "output_type": "display_data"
    }
   ],
   "execution_count": 404
  },
  {
   "metadata": {
    "ExecuteTime": {
     "end_time": "2024-12-29T16:24:13.221368Z",
     "start_time": "2024-12-29T16:24:13.219501Z"
    }
   },
   "cell_type": "code",
   "source": "",
   "id": "3e70f28a543a7ffc",
   "outputs": [],
   "execution_count": null
  }
 ],
 "metadata": {
  "kernelspec": {
   "display_name": "Python 3",
   "language": "python",
   "name": "python3"
  },
  "language_info": {
   "codemirror_mode": {
    "name": "ipython",
    "version": 2
   },
   "file_extension": ".py",
   "mimetype": "text/x-python",
   "name": "python",
   "nbconvert_exporter": "python",
   "pygments_lexer": "ipython2",
   "version": "2.7.6"
  }
 },
 "nbformat": 4,
 "nbformat_minor": 5
}
